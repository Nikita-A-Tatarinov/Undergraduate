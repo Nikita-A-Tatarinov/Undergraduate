{
 "cells": [
  {
   "cell_type": "code",
   "execution_count": 1,
   "metadata": {},
   "outputs": [],
   "source": [
    "import numpy as np"
   ]
  },
  {
   "cell_type": "markdown",
   "metadata": {},
   "source": [
    "# Task 5"
   ]
  },
  {
   "cell_type": "code",
   "execution_count": 2,
   "metadata": {},
   "outputs": [],
   "source": [
    "P = np.array([[0, -9/26, -4/13], [-3/13, 0, -3/26], [-1/21, -1/21, 0]])\n",
    "c = np.array([[9/26], [1/26], [1/3]])\n",
    "x0 = np.array([[0], [0], [0]])"
   ]
  },
  {
   "cell_type": "code",
   "execution_count": 3,
   "metadata": {},
   "outputs": [
    {
     "name": "stdout",
     "output_type": "stream",
     "text": [
      "x_0:  [[0]\n",
      " [0]\n",
      " [0]]\n",
      "x_1 [[0.34615385]\n",
      " [0.03846154]\n",
      " [0.33333333]]\n",
      "x_2: [[ 0.23027613]\n",
      " [-0.07988166]\n",
      " [ 0.31501832]]\n",
      "x_3: [[ 0.27687648]\n",
      " [-0.05102737]\n",
      " [ 0.32617169]]\n",
      "x_4: [[ 0.26345665]\n",
      " [-0.06306823]\n",
      " [ 0.32257861]]\n",
      "x_5: [[ 0.2687302 ]\n",
      " [-0.05955676]\n",
      " [ 0.32379103]]\n",
      "delta:  [[0.00527355]\n",
      " [0.00351147]\n",
      " [0.00121241]]\n"
     ]
    }
   ],
   "source": [
    "print('x_0: ', x0)\n",
    "xi = P.dot(x0) + c\n",
    "i = 1\n",
    "print('x_1', xi)\n",
    "while np.any(np.abs(xi - x0) > 0.01):\n",
    "    x0 = xi\n",
    "    xi = P.dot(x0) + c\n",
    "    i += 1\n",
    "    print('x_', i, ': ', xi, sep='')\n",
    "print('delta: ', xi - x0)"
   ]
  },
  {
   "cell_type": "markdown",
   "metadata": {},
   "source": [
    "# Task 6"
   ]
  },
  {
   "cell_type": "code",
   "execution_count": 4,
   "metadata": {},
   "outputs": [],
   "source": [
    "Q = 1 / 1200 * np.array([[36, 546, 291, 376, 240], [1056, 546, 291, 376, 240], \n",
    "                         [36, 36, 291, 36, 240], [36, 36, 36, 376, 240], \n",
    "                         [36, 36, 291, 36, 240]])\n",
    "x0 = np.array([[1/5], [1/5], [1/5], [1/5], [1/5]])"
   ]
  },
  {
   "cell_type": "code",
   "execution_count": 5,
   "metadata": {},
   "outputs": [
    {
     "name": "stdout",
     "output_type": "stream",
     "text": [
      "x_0:  [[0.2]\n",
      " [0.2]\n",
      " [0.2]\n",
      " [0.2]\n",
      " [0.2]]\n",
      "x_1 [[0.24816667]\n",
      " [0.41816667]\n",
      " [0.1065    ]\n",
      " [0.12066667]\n",
      " [0.1065    ]]\n",
      "x_2: [[0.28264597]\n",
      " [0.49358764]\n",
      " [0.07073625]\n",
      " [0.08229389]\n",
      " [0.07073625]]\n",
      "x_3: [[0.29014796]\n",
      " [0.53039704]\n",
      " [0.05705662]\n",
      " [0.06534176]\n",
      " [0.05705662]]\n",
      "x_4: [[0.2957564 ]\n",
      " [0.54238217]\n",
      " [0.05182416]\n",
      " [0.05821312]\n",
      " [0.05182416]]\n",
      "x_5: [[0.29682888]\n",
      " [0.54822182]\n",
      " [0.04982274]\n",
      " [0.05530383]\n",
      " [0.04982274]]\n",
      "x_6: [[0.29772089]\n",
      " [0.55002543]\n",
      " [0.0490572 ]\n",
      " [0.05413928]\n",
      " [0.0490572 ]]\n",
      "x_7: [[0.29786465]\n",
      " [0.55092741]\n",
      " [0.04876438]\n",
      " [0.05367919]\n",
      " [0.04876438]]\n",
      "delta:  [[ 0.00014376]\n",
      " [ 0.00090197]\n",
      " [-0.00029282]\n",
      " [-0.0004601 ]\n",
      " [-0.00029282]]\n"
     ]
    }
   ],
   "source": [
    "print('x_0: ', x0)\n",
    "xi = Q.dot(x0)\n",
    "i = 1\n",
    "print('x_1', xi)\n",
    "while np.any(np.abs(xi - x0) > 0.001):\n",
    "    x0 = xi\n",
    "    xi = Q.dot(x0)\n",
    "    i += 1\n",
    "    print('x_', i, ': ', xi, sep='')\n",
    "print('delta: ', xi - x0)"
   ]
  }
 ],
 "metadata": {
  "kernelspec": {
   "display_name": "Python 3 (ipykernel)",
   "language": "python",
   "name": "python3"
  },
  "language_info": {
   "codemirror_mode": {
    "name": "ipython",
    "version": 3
   },
   "file_extension": ".py",
   "mimetype": "text/x-python",
   "name": "python",
   "nbconvert_exporter": "python",
   "pygments_lexer": "ipython3",
   "version": "3.9.7"
  }
 },
 "nbformat": 4,
 "nbformat_minor": 2
}
